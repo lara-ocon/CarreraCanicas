{
 "cells": [
  {
   "cell_type": "code",
   "execution_count": null,
   "metadata": {},
   "outputs": [],
   "source": [
    "import numpy as np\n",
    "import cv2\n",
    "import imageio\n",
    "import matplotlib.pyplot as plt\n",
    "# importamos deepcopy para copiar objetos\n",
    "from copy import deepcopy"
   ]
  },
  {
   "cell_type": "code",
   "execution_count": null,
   "metadata": {},
   "outputs": [],
   "source": [
    "# cargamos las imagenes:\n",
    "def load_images(filenames):\n",
    "    return [imageio.imread(filename) for filename in filenames]\n",
    "\n",
    "def find_centers(images):\n",
    "    centers = [cv2.findCirclesGrid(image, (5, 4), None) for image in images]\n",
    "\n",
    "    return centers\n",
    "\n",
    "def show_centers(images, centers):\n",
    "    # mostramos una matriz con las 23 imagenes y los centros encontrados\n",
    "    images2 = deepcopy(images)\n",
    "    tmp = [cv2.drawChessboardCorners(img, (5,4), cor[1], cor[0]) for img, cor in zip(images2, centers) if cor[0]]\n",
    "    # now we show the images in a matrix, 4x6\n",
    "    fig, ax = plt.subplots(4, 6, figsize=(20, 10))\n",
    "    for i, image in enumerate(images2):\n",
    "        ax[i//6, i%6].imshow(image)\n",
    "        ax[i//6, i%6].axis('off')\n",
    "        # ponemos el numero de la imagen\n",
    "        ax[i//6, i%6].set_title(f'Image {i+1}')\n",
    "    plt.show()\n",
    "    return images2\n",
    "\n",
    "\n",
    "def get_circle_centers(patron_shape, dx, dy):\n",
    "    # patron_shape: (4, 6)\n",
    "    # dx, dy: distancia entre centros\n",
    "    points = []\n",
    "    for i in range(patron_shape[1]):\n",
    "        for j in range(patron_shape[0]):\n",
    "            points.append([dx*i, dy*j])\n",
    "    return np.array(points, dtype=np.float32)\n",
    "\n",
    "def get_circle_centers2(chessboard_shape, dx, dy):\n",
    "    return [[(i%chessboard_shape[0])*dx, (i//chessboard_shape[0])*dy, 0] for i in range(np.prod(chessboard_shape))]\n",
    "\n",
    "\n"
   ]
  },
  {
   "cell_type": "code",
   "execution_count": null,
   "metadata": {},
   "outputs": [
    {
     "name": "stderr",
     "output_type": "stream",
     "text": [
      "/var/folders/11/8n3x035j1rngnz1l98ysm7vm0000gn/T/ipykernel_99632/767665108.py:3: DeprecationWarning: Starting with ImageIO v3 the behavior of this function will switch to that of iio.v3.imread. To keep the current behavior (and make this warning disappear) use `import imageio.v2 as imageio` or call `imageio.v2.imread` directly.\n",
      "  return [imageio.imread(filename) for filename in filenames]\n"
     ]
    }
   ],
   "source": [
    "filenames = [f'calibracion/img{i}.jpg' for i in range(1,24)]\n",
    "images = load_images(filenames)"
   ]
  },
  {
   "cell_type": "code",
   "execution_count": null,
   "metadata": {},
   "outputs": [],
   "source": [
    "centers = find_centers(images)\n"
   ]
  },
  {
   "cell_type": "code",
   "execution_count": null,
   "metadata": {},
   "outputs": [],
   "source": [
    "images2 = show_centers(images, centers)"
   ]
  },
  {
   "cell_type": "code",
   "execution_count": null,
   "metadata": {},
   "outputs": [
    {
     "ename": "error",
     "evalue": "OpenCV(4.8.0) /Users/runner/work/opencv-python/opencv-python/opencv/modules/calib3d/src/calibration.cpp:3408: error: (-210:Unsupported format or combination of formats) objectPoints should contain vector of vectors of points of type Point3f in function 'collectCalibrationData'\n",
     "output_type": "error",
     "traceback": [
      "\u001b[0;31m---------------------------------------------------------------------------\u001b[0m",
      "\u001b[0;31merror\u001b[0m                                     Traceback (most recent call last)",
      "\u001b[1;32m/Users/lara/Library/CloudStorage/OneDrive-UniversidadPontificiaComillas/Tercero_mac/Vision/ProyectoFinal/CarreraCanicas/calibracion2.ipynb Celda 6\u001b[0m in \u001b[0;36m<cell line: 16>\u001b[0;34m()\u001b[0m\n\u001b[1;32m     <a href='vscode-notebook-cell:/Users/lara/Library/CloudStorage/OneDrive-UniversidadPontificiaComillas/Tercero_mac/Vision/ProyectoFinal/CarreraCanicas/calibracion2.ipynb#W5sZmlsZQ%3D%3D?line=12'>13</a>\u001b[0m image_points \u001b[39m=\u001b[39m np\u001b[39m.\u001b[39masarray(valid_centers, dtype\u001b[39m=\u001b[39mnp\u001b[39m.\u001b[39mfloat32)\n\u001b[1;32m     <a href='vscode-notebook-cell:/Users/lara/Library/CloudStorage/OneDrive-UniversidadPontificiaComillas/Tercero_mac/Vision/ProyectoFinal/CarreraCanicas/calibracion2.ipynb#W5sZmlsZQ%3D%3D?line=14'>15</a>\u001b[0m \u001b[39m# now we calibrate the camera\u001b[39;00m\n\u001b[0;32m---> <a href='vscode-notebook-cell:/Users/lara/Library/CloudStorage/OneDrive-UniversidadPontificiaComillas/Tercero_mac/Vision/ProyectoFinal/CarreraCanicas/calibracion2.ipynb#W5sZmlsZQ%3D%3D?line=15'>16</a>\u001b[0m rms, intrinsics, dist_coeffs, rvecs, tvecs \u001b[39m=\u001b[39m cv2\u001b[39m.\u001b[39;49mcalibrateCamera(real_points, image_points, images[\u001b[39m0\u001b[39;49m]\u001b[39m.\u001b[39;49mshape[:\u001b[39m2\u001b[39;49m], \u001b[39mNone\u001b[39;49;00m, \u001b[39mNone\u001b[39;49;00m)\n\u001b[1;32m     <a href='vscode-notebook-cell:/Users/lara/Library/CloudStorage/OneDrive-UniversidadPontificiaComillas/Tercero_mac/Vision/ProyectoFinal/CarreraCanicas/calibracion2.ipynb#W5sZmlsZQ%3D%3D?line=17'>18</a>\u001b[0m extrinsics \u001b[39m=\u001b[39m \u001b[39mlist\u001b[39m(\u001b[39mmap\u001b[39m(\u001b[39mlambda\u001b[39;00m rvec, tvec: np\u001b[39m.\u001b[39mhstack((cv2\u001b[39m.\u001b[39mRodrigues(rvec)[\u001b[39m0\u001b[39m], tvec)), rvecs, tvecs))\n\u001b[1;32m     <a href='vscode-notebook-cell:/Users/lara/Library/CloudStorage/OneDrive-UniversidadPontificiaComillas/Tercero_mac/Vision/ProyectoFinal/CarreraCanicas/calibracion2.ipynb#W5sZmlsZQ%3D%3D?line=19'>20</a>\u001b[0m \u001b[39mprint\u001b[39m(\u001b[39m'\u001b[39m\u001b[39mCalibration matrix:\u001b[39m\u001b[39m'\u001b[39m)\n",
      "\u001b[0;31merror\u001b[0m: OpenCV(4.8.0) /Users/runner/work/opencv-python/opencv-python/opencv/modules/calib3d/src/calibration.cpp:3408: error: (-210:Unsupported format or combination of formats) objectPoints should contain vector of vectors of points of type Point3f in function 'collectCalibrationData'\n"
     ]
    }
   ],
   "source": [
    "# centers:\n",
    "valid_centers = [cor[1] for cor in centers if cor[0]]\n",
    "num_valid_images = len(valid_centers)\n",
    "\n",
    "# obtain their real points\n",
    "real_points = get_circle_centers2((5, 4), 20, 20)\n",
    "real_points = np.asarray([real_points for i in range(num_valid_images)], dtype=np.float32)\n",
    "\n",
    "# We are going to convert our coordinates list in the reference system to numpy array\n",
    "object_points = np.asarray([real_points for i in range(num_valid_images)], dtype=np.float32)\n",
    "\n",
    "# convert the corners list to array\n",
    "image_points = np.asarray(valid_centers, dtype=np.float32)\n",
    "\n",
    "# now we calibrate the camera\n",
    "rms, intrinsics, dist_coeffs, rvecs, tvecs = cv2.calibrateCamera(real_points, image_points, images[0].shape[:2], None, None)\n",
    "\n",
    "extrinsics = list(map(lambda rvec, tvec: np.hstack((cv2.Rodrigues(rvec)[0], tvec)), rvecs, tvecs))\n",
    "\n",
    "print('Calibration matrix:')\n",
    "print('-------------------')\n",
    "print('Intrinsic parameters:')\n",
    "print(intrinsics+'\\n')\n",
    "print('Distortion coefficients:')\n",
    "print(dist_coeffs+'\\n')\n",
    "print('Extrinsic parameters:')\n",
    "print(extrinsics+'\\n')\n",
    "print('RMS:')\n",
    "print(rms+'\\n')"
   ]
  },
  {
   "cell_type": "code",
   "execution_count": null,
   "metadata": {},
   "outputs": [],
   "source": [
    "if __name__ == '__main__':\n",
    "\n",
    "    filenames = ['center/center_{:03d}.jpg'.format(i) for i in range(10)]\n",
    "\n",
    "    images = load_images(filenames)\n",
    "\n",
    "    centers, rets = find_centers(images)\n",
    "\n",
    "    # visualize the centers\n",
    "    images2 = show_centers(images, centers, rets)\n",
    "\n",
    "    # obtain the centers of the circles\n",
    "    real_points = get_circle_centers((4, 6), 1, 1)\n",
    "\n",
    "    # now we calibrate the camera\n",
    "    # we need to obtain the camera matrix and the distortion coefficients\n",
    "    # we use the function cv2.calibrateCamera\n",
    "    valid_centers = [centers[i] for i in range(len(rets)) if rets[i]]\n",
    "    num_valid_images = len(valid_centers)\n",
    "    # obtain their real points\n",
    "    real_points = np.asarray([real_points for i in range(num_valid_images)], dtype=np.float32)\n",
    "\n",
    "    # convert the corners list to array\n",
    "    image_points = np.asarray(valid_centers, dtype=np.float32)\n",
    "\n",
    "    # now we calibrate the camera\n",
    "    rms, intrinsics, dist_coeffs, rvecs, tvecs = cv2.calibrateCamera(real_points, image_points, images[0].shape[:2], None, None)\n",
    "\n",
    "    extrinsics = list(map(lambda rvec, tvec: np.hstack((cv2.Rodrigues(rvec)[0], tvec)), rvecs, tvecs))\n",
    "\n",
    "    print('Calibration matrix:')\n",
    "    print('-------------------')\n",
    "    print('Intrinsic parameters:')\n",
    "    print(intrinsics+'\\n')\n",
    "    print('Distortion coefficients:')\n",
    "    print(dist_coeffs+'\\n')\n",
    "    print('Extrinsic parameters:')\n",
    "    print(extrinsics+'\\n')\n",
    "    print('RMS:')\n",
    "    print(rms+'\\n')"
   ]
  }
 ],
 "metadata": {
  "kernelspec": {
   "display_name": "Python 3",
   "language": "python",
   "name": "python3"
  },
  "language_info": {
   "codemirror_mode": {
    "name": "ipython",
    "version": 3
   },
   "file_extension": ".py",
   "mimetype": "text/x-python",
   "name": "python",
   "nbconvert_exporter": "python",
   "pygments_lexer": "ipython3",
   "version": "3.9.7"
  },
  "orig_nbformat": 4,
  "vscode": {
   "interpreter": {
    "hash": "aee8b7b246df8f9039afb4144a1f6fd8d2ca17a180786b69acc140d282b71a49"
   }
  }
 },
 "nbformat": 4,
 "nbformat_minor": 2
}
