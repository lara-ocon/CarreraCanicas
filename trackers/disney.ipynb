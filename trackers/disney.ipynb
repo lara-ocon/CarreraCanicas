{
 "cells": [
  {
   "cell_type": "code",
   "execution_count": 2,
   "metadata": {},
   "outputs": [],
   "source": [
    "import cv2\n",
    "import numpy as np\n",
    "\n",
    "# Crear una imagen en blanco como si fuera el video\n",
    "frame = np.ones((480, 640, 3), dtype=np.uint8) * 255  # Imagen blanca de tamaño 640x480\n",
    "\n",
    "# Cargar la imagen del logo de Disney Channel\n",
    "disney_logo = cv2.imread('disnet-channel-logo.png', -1)  # Reemplaza 'path_to_disney_logo.png' con la ruta de tu imagen\n",
    "\n",
    "# Redimensionar el logo de Disney Channel para que se ajuste al tamaño deseado\n",
    "logo_resized = cv2.resize(disney_logo, (100, 100))  # Ajusta el tamaño según sea necesario\n",
    "\n",
    "# Superponer el logo en la esquina superior izquierda de la imagen en blanco\n",
    "frame[10:110, 10:110] = logo_resized  # Ajusta las coordenadas según la posición deseada\n",
    "\n",
    "# Mostrar la imagen resultante con el logo superpuesto\n",
    "cv2.imshow(\"Disney Channel Logo\", frame)\n",
    "cv2.waitKey(0)\n",
    "cv2.destroyAllWindows()\n"
   ]
  }
 ],
 "metadata": {
  "kernelspec": {
   "display_name": "base",
   "language": "python",
   "name": "python3"
  },
  "language_info": {
   "codemirror_mode": {
    "name": "ipython",
    "version": 3
   },
   "file_extension": ".py",
   "mimetype": "text/x-python",
   "name": "python",
   "nbconvert_exporter": "python",
   "pygments_lexer": "ipython3",
   "version": "3.9.13"
  }
 },
 "nbformat": 4,
 "nbformat_minor": 2
}
