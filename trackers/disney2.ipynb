{
 "cells": [
  {
   "cell_type": "code",
   "execution_count": 2,
   "metadata": {},
   "outputs": [
    {
     "ename": "ValueError",
     "evalue": "operands could not be broadcast together with shapes (0,200) (200,200) ",
     "output_type": "error",
     "traceback": [
      "\u001b[0;31m---------------------------------------------------------------------------\u001b[0m",
      "\u001b[0;31mValueError\u001b[0m                                Traceback (most recent call last)",
      "\u001b[0;32m/var/folders/11/8n3x035j1rngnz1l98ysm7vm0000gn/T/ipykernel_39165/3556874719.py\u001b[0m in \u001b[0;36m<module>\u001b[0;34m\u001b[0m\n\u001b[1;32m     27\u001b[0m     \u001b[0;32mfor\u001b[0m \u001b[0mc\u001b[0m \u001b[0;32min\u001b[0m \u001b[0mrange\u001b[0m\u001b[0;34m(\u001b[0m\u001b[0;36m0\u001b[0m\u001b[0;34m,\u001b[0m \u001b[0;36m3\u001b[0m\u001b[0;34m)\u001b[0m\u001b[0;34m:\u001b[0m\u001b[0;34m\u001b[0m\u001b[0;34m\u001b[0m\u001b[0m\n\u001b[1;32m     28\u001b[0m         \u001b[0mframe\u001b[0m\u001b[0;34m[\u001b[0m\u001b[0my1\u001b[0m\u001b[0;34m:\u001b[0m\u001b[0my2\u001b[0m\u001b[0;34m,\u001b[0m \u001b[0mx1\u001b[0m\u001b[0;34m:\u001b[0m\u001b[0mx2\u001b[0m\u001b[0;34m,\u001b[0m \u001b[0mc\u001b[0m\u001b[0;34m]\u001b[0m \u001b[0;34m=\u001b[0m \u001b[0;34m(\u001b[0m\u001b[0mlogo_resized\u001b[0m\u001b[0;34m[\u001b[0m\u001b[0;34m:\u001b[0m\u001b[0;34m,\u001b[0m \u001b[0;34m:\u001b[0m\u001b[0;34m,\u001b[0m \u001b[0mc\u001b[0m\u001b[0;34m]\u001b[0m \u001b[0;34m*\u001b[0m \u001b[0;34m(\u001b[0m\u001b[0mlogo_mask_resized\u001b[0m \u001b[0;34m/\u001b[0m \u001b[0;36m255.0\u001b[0m\u001b[0;34m)\u001b[0m\u001b[0;34m)\u001b[0m \u001b[0;34m+\u001b[0m\u001b[0;31m \u001b[0m\u001b[0;31m\\\u001b[0m\u001b[0;34m\u001b[0m\u001b[0;34m\u001b[0m\u001b[0m\n\u001b[0;32m---> 29\u001b[0;31m                                  \u001b[0;34m(\u001b[0m\u001b[0mframe\u001b[0m\u001b[0;34m[\u001b[0m\u001b[0my1\u001b[0m\u001b[0;34m:\u001b[0m\u001b[0my2\u001b[0m\u001b[0;34m,\u001b[0m \u001b[0mx1\u001b[0m\u001b[0;34m:\u001b[0m\u001b[0mx2\u001b[0m\u001b[0;34m,\u001b[0m \u001b[0mc\u001b[0m\u001b[0;34m]\u001b[0m \u001b[0;34m*\u001b[0m \u001b[0;34m(\u001b[0m\u001b[0;36m1.0\u001b[0m \u001b[0;34m-\u001b[0m \u001b[0;34m(\u001b[0m\u001b[0mlogo_mask_resized\u001b[0m \u001b[0;34m/\u001b[0m \u001b[0;36m255.0\u001b[0m\u001b[0;34m)\u001b[0m\u001b[0;34m)\u001b[0m\u001b[0;34m)\u001b[0m\u001b[0;34m\u001b[0m\u001b[0;34m\u001b[0m\u001b[0m\n\u001b[0m\u001b[1;32m     30\u001b[0m \u001b[0;34m\u001b[0m\u001b[0m\n\u001b[1;32m     31\u001b[0m     \u001b[0;31m# Mostrar la imagen resultante con el logo superpuesto\u001b[0m\u001b[0;34m\u001b[0m\u001b[0;34m\u001b[0m\u001b[0m\n",
      "\u001b[0;31mValueError\u001b[0m: operands could not be broadcast together with shapes (0,200) (200,200) "
     ]
    }
   ],
   "source": [
    "import cv2\n",
    "import numpy as np\n",
    "\n",
    "# Crear una imagen en blanco como si fuera el video\n",
    "frame = np.ones((480, 640, 3), dtype=np.uint8) * 255  # Imagen blanca de tamaño 640x480\n",
    "\n",
    "# Cargar la imagen del logo de Disney Channel con transparencia\n",
    "disney_logo = cv2.imread('disney-channel-logo.png', -1)  # Reemplaza 'path_to_disney_logo.png' con la ruta de tu imagen\n",
    "\n",
    "# Extraer los canales R, G, B de la imagen del logo y el canal alfa\n",
    "logo_bgr = disney_logo[:, :, 0:3]\n",
    "logo_mask = disney_logo[:, :, 3]\n",
    "\n",
    "# Redimensionar el logo de Disney Channel para que se ajuste al tamaño deseado (100x100)\n",
    "logo_resized = cv2.resize(logo_bgr, (200, 200))  # Ajusta el tamaño según sea necesario\n",
    "\n",
    "# Redimensionar la máscara del logo para que coincida con el tamaño del logo\n",
    "logo_mask_resized = cv2.resize(logo_mask, (200, 200)) \n",
    "\n",
    "# Obtener las coordenadas donde se superpondrá el logo\n",
    "y1, y2 = frame.shape[0] - logo_resized.shape[0], frame.shape[0] # Coordenadas de la esquina superior izquierda del logo\n",
    "x1, x2 = 10, 210\n",
    "\n",
    "# Verificar que las coordenadas no excedan las dimensiones de la imagen en blanco\n",
    "if y2 - y1 <= frame.shape[0] and x2 - x1 <= frame.shape[1]:\n",
    "    # Superponer el logo en la esquina superior izquierda de la imagen en blanco respetando la transparencia\n",
    "    for c in range(0, 3):\n",
    "        frame[y1:y2, x1:x2, c] = (logo_resized[:, :, c] * (logo_mask_resized / 255.0)) + \\\n",
    "                                 (frame[y1:y2, x1:x2, c] * (1.0 - (logo_mask_resized / 255.0)))\n",
    "\n",
    "    # Mostrar la imagen resultante con el logo superpuesto\n",
    "    cv2.imshow(\"Disney Channel Logo\", frame)\n",
    "    cv2.waitKey(0)\n",
    "    cv2.destroyAllWindows()\n",
    "else:\n",
    "    print(\"Las coordenadas de superposición exceden las dimensiones de la imagen en blanco.\")\n",
    "\n"
   ]
  }
 ],
 "metadata": {
  "kernelspec": {
   "display_name": "base",
   "language": "python",
   "name": "python3"
  },
  "language_info": {
   "codemirror_mode": {
    "name": "ipython",
    "version": 3
   },
   "file_extension": ".py",
   "mimetype": "text/x-python",
   "name": "python",
   "nbconvert_exporter": "python",
   "pygments_lexer": "ipython3",
   "version": "3.9.13"
  }
 },
 "nbformat": 4,
 "nbformat_minor": 2
}
